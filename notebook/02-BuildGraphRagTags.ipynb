{
 "cells": [
  {
   "cell_type": "markdown",
   "metadata": {},
   "source": [
    "# Example Notebook for Graph Building\n",
    "\n",
    "This notebook demonstrates how to use the `process_graph` function from `build_graph.py` to process JSON files and build/prune a graph."
   ]
  },
  {
   "cell_type": "code",
   "execution_count": 1,
   "id": "599c4c0a",
   "metadata": {},
   "outputs": [
    {
     "name": "stdout",
     "output_type": "stream",
     "text": [
      "/data/home/eak/learning/nganga_ai/graphrag-tagger\n"
     ]
    }
   ],
   "source": [
    "%cd .."
   ]
  },
  {
   "cell_type": "code",
   "execution_count": 2,
   "metadata": {},
   "outputs": [
    {
     "name": "stdout",
     "output_type": "stream",
     "text": [
      "Processing graph...\n",
      "Found 61 files in notebook/example/results.\n"
     ]
    },
    {
     "name": "stderr",
     "output_type": "stream",
     "text": [
      "Loading raw files: 100%|██████████| 61/61 [00:00<00:00, 13430.58it/s]\n"
     ]
    },
    {
     "name": "stdout",
     "output_type": "stream",
     "text": [
      "Loaded 61 raw documents.\n",
      "Computing scores...\n",
      "Scores computed.\n",
      "Building graph...\n"
     ]
    },
    {
     "name": "stderr",
     "output_type": "stream",
     "text": [
      "Building nodes & edges: 100%|██████████| 61/61 [00:00<00:00, 8905.10it/s]"
     ]
    },
    {
     "name": "stdout",
     "output_type": "stream",
     "text": [
      "Graph built. Nodes: 61 Edges: 1431\n",
      "Starting graph pruning...\n",
      "Min weight: 1.9233900363781316\n",
      "Max weight: 9.273103541315505\n",
      "Mean weight: 4.240697321820651\n",
      "Median weight: 3.621366483299374\n",
      "Pruning threshold (97.5th percentile): 7.829650766355667\n",
      "Removing 1386 edges out of 1431...\n",
      "Graph pruned. Nodes: 61 Edges: 45\n",
      "Computing connected components...\n",
      "Number of connected components: 43\n",
      "Component sizes (min, max, mean): 1 6 1.4186046511627908\n",
      "Connected components map saved to notebook/example/results/graph_outputs/connected_components.json\n",
      "Graph processing complete.\n",
      "Graph processing completed.\n"
     ]
    },
    {
     "name": "stderr",
     "output_type": "stream",
     "text": [
      "\n"
     ]
    }
   ],
   "source": [
    "import os\n",
    "from graphrag_tagger.build_graph import process_graph\n",
    "\n",
    "# Define sample input and output folders\n",
    "input_folder = 'notebook/example/results'  # update this path to your folder containing JSON files\n",
    "output_folder = 'notebook/example/results/graph_outputs'  # update this path to where you want the results saved\n",
    "\n",
    "# Create output folder if it doesn't exist\n",
    "os.makedirs(output_folder, exist_ok=True)\n",
    "\n",
    "# Process graph with a specified threshold percentile (e.g., 97.5)\n",
    "graph = process_graph(input_folder, output_folder, threshold_percentile=97.5)\n",
    "\n",
    "# The processed graph is stored in 'graph' and the connected components map is saved to the output folder.\n",
    "print('Graph processing completed.')"
   ]
  },
  {
   "cell_type": "code",
   "execution_count": 3,
   "id": "a95bd824",
   "metadata": {},
   "outputs": [
    {
     "data": {
      "text/plain": [
       "61"
      ]
     },
     "execution_count": 3,
     "metadata": {},
     "output_type": "execute_result"
    }
   ],
   "source": [
    "import json\n",
    "import os\n",
    "\n",
    "raw: dict = json.load(open(os.path.join(output_folder, \"connected_components.json\")))\n",
    "\n",
    "len(raw)"
   ]
  },
  {
   "cell_type": "code",
   "execution_count": 4,
   "id": "0b3953f1",
   "metadata": {},
   "outputs": [
    {
     "data": {
      "text/plain": [
       "0"
      ]
     },
     "execution_count": 4,
     "metadata": {},
     "output_type": "execute_result"
    }
   ],
   "source": [
    "raw[\"0\"]"
   ]
  },
  {
   "cell_type": "code",
   "execution_count": 5,
   "id": "a0bbbd77",
   "metadata": {},
   "outputs": [
    {
     "data": {
      "text/plain": [
       "43"
      ]
     },
     "execution_count": 5,
     "metadata": {},
     "output_type": "execute_result"
    }
   ],
   "source": [
    "len(set(raw.values())) # unique tag"
   ]
  },
  {
   "cell_type": "code",
   "execution_count": 6,
   "id": "c092959c",
   "metadata": {},
   "outputs": [
    {
     "data": {
      "text/plain": [
       "43"
      ]
     },
     "execution_count": 6,
     "metadata": {},
     "output_type": "execute_result"
    }
   ],
   "source": [
    "connected_chunks = {}\n",
    "for k, v in raw.items():\n",
    "    if v in connected_chunks:\n",
    "        connected_chunks[v].append(int(k) + 1)\n",
    "    else:\n",
    "        connected_chunks[v] = [int(k) + 1]\n",
    "        \n",
    "len(connected_chunks)"
   ]
  },
  {
   "cell_type": "code",
   "execution_count": 7,
   "id": "50e3f8f8",
   "metadata": {},
   "outputs": [
    {
     "name": "stdout",
     "output_type": "stream",
     "text": [
      "0 [1, 36, 39, 40, 23, 61]\n",
      "4 [5, 15, 16]\n",
      "9 [10, 43]\n",
      "10 [11, 59]\n",
      "19 [22, 25, 28, 31, 32]\n",
      "20 [35, 56, 24, 26, 27, 29]\n"
     ]
    }
   ],
   "source": [
    "for k, v in connected_chunks.items():\n",
    "    if len(v) > 1:\n",
    "        print(k, v)"
   ]
  },
  {
   "cell_type": "code",
   "execution_count": 21,
   "id": "14528b00",
   "metadata": {},
   "outputs": [],
   "source": [
    "example1 = json.load(open(os.path.join(input_folder, \"chunk_22.json\")))\n",
    "example2 = json.load(open(os.path.join(input_folder, \"chunk_25.json\")))"
   ]
  },
  {
   "cell_type": "code",
   "execution_count": 22,
   "id": "a8790414",
   "metadata": {},
   "outputs": [
    {
     "name": "stdout",
     "output_type": "stream",
     "text": [
      "48\n",
      "45\n",
      "41\n",
      "50\n",
      "SS\n",
      "TS\n",
      "C0\n",
      "C1\n",
      "C2\n",
      "C3\n",
      "SS TS C0 C1 C2 C3\n",
      "Comprehensiveness\n",
      "50\n",
      "33\n",
      "38\n",
      "35\n",
      "29\n",
      "31\n",
      "67\n",
      "50\n",
      "53\n",
      "45\n",
      "44\n",
      "40\n",
      "62\n",
      "47\n",
      "50\n",
      "40\n",
      "41\n",
      "41\n",
      "65\n",
      "55\n",
      "60\n",
      "50\n",
      "50\n",
      "50\n",
      "71\n",
      "56\n",
      "59\n",
      "50\n",
      "50\n",
      "51\n",
      "69\n",
      "60\n",
      "59\n",
      "50\n",
      "49\n",
      "50\n",
      "SS\n",
      "TS\n",
      "C0\n",
      "C1\n",
      "C2\n",
      "C3\n",
      "SS TS C0 C1 C2 C3\n",
      "Diversity\n",
      "50\n",
      "47\n",
      "57\n",
      "49\n",
      "50\n",
      "50\n",
      "53\n",
      "50\n",
      "58\n",
      "50\n",
      "50\n",
      "48\n",
      "43\n",
      "42\n",
      "50\n",
      "42\n",
      "45\n",
      "44\n",
      "51\n",
      "50\n",
      "58\n",
      "50\n",
      "52\n",
      "51\n",
      "50\n",
      "50\n",
      "55\n",
      "48\n",
      "50\n",
      "50\n",
      "50\n",
      "52\n",
      "56\n",
      "49\n",
      "50\n",
      "50\n",
      "SS\n",
      "TS\n",
      "C0\n",
      "C1\n",
      "C2\n",
      "C3\n",
      "SS TS C0 C1 C2 C3\n",
      "Empowerment\n",
      "50\n",
      "54\n",
      "59\n",
      "55\n",
      "55\n",
      "54\n",
      "46\n",
      "50\n",
      "55\n",
      "53\n",
      "52\n",
      "52\n",
      "41\n",
      "45\n",
      "50\n",
      "48\n",
      "48\n",
      "47\n",
      "45\n",
      "47\n",
      "52\n",
      "50\n",
      "49\n",
      "49\n",
      "45\n",
      "48\n",
      "52\n",
      "51\n",
      "50\n",
      "49\n",
      "46\n",
      "48\n",
      "53\n",
      "51\n",
      "51\n",
      "50\n",
      "SS\n",
      "TS\n",
      "C0\n",
      "C1\n",
      "C2\n",
      "C3\n",
      "SS TS C0 C1 C2 C3\n",
      "Directness\n",
      "Figure 2: Head-to-head win rate percentages of (row condition) over (column condition) across two\n",
      "datasets, four metrics, and 125 questions per comparison (each repeated five times and averaged).\n",
      "The overall winner per dataset and metric is shown in bold. Self-win rates were not computed but\n",
      "are shown as the expected 50% for reference. All Graph RAG conditions outperformed na¨ıve RAG\n",
      "on comprehensiveness and diversity. Conditions C1-C3 also showed slight improvements in answer\n",
      "comprehensiveness and diversity over TS (global text summarization without a graph index).\n",
      "Table 2: Number of context units (community summaries for C0-C3 and text chunks for TS), corre-\n"
     ]
    }
   ],
   "source": [
    "print(example1[\"chunk\"])"
   ]
  },
  {
   "cell_type": "code",
   "execution_count": 20,
   "id": "ddcbc85f",
   "metadata": {},
   "outputs": [
    {
     "name": "stdout",
     "output_type": "stream",
     "text": [
      "Anil, R., Borgeaud, S., Wu, Y., Alayrac, J.-B., Yu, J., Soricut, R., Schalkwyk, J., Dai, A. M.,\n",
      "Hauth, A., et al. (2023). Gemini: a family of highly capable multimodal models. arXiv preprint\n",
      "arXiv:2312.11805.\n",
      "Baek, J., Aji, A. F., and Saffari, A. (2023). Knowledge-augmented language model prompting for\n",
      "zero-shot knowledge graph question answering. arXiv preprint arXiv:2306.04136.\n",
      "Ban, T., Chen, L., Wang, X., and Chen, H. (2023). From query tools to causal architects: Harnessing\n",
      "large language models for advanced causal discovery from data.\n",
      "Barlaug, N. and Gulla, J. A. (2021). Neural networks for entity matching: A survey. ACM Transac-\n",
      "tions on Knowledge Discovery from Data (TKDD), 15(3):1–37.\n",
      "Baumel, T., Eyal, M., and Elhadad, M. (2018). Query focused abstractive summarization: Incorpo-\n",
      "rating query relevance, multi-document coverage, and summary length constraints into seq2seq\n",
      "models. arXiv preprint arXiv:1801.07704.\n",
      "Blondel, V. D., Guillaume, J.-L., Lambiotte, R., and Lefebvre, E. (2008).\n",
      "Fast unfolding of\n",
      "communities in large networks.\n",
      "Journal of statistical mechanics: theory and experiment,\n",
      "2008(10):P10008.\n",
      "Brown, T., Mann, B., Ryder, N., Subbiah, M., Kaplan, J. D., Dhariwal, P., Neelakantan, A., Shyam,\n",
      "P., Sastry, G., Askell, A., et al. (2020). Language models are few-shot learners. Advances in\n",
      "neural information processing systems, 33:1877–1901.\n",
      "Cheng, X., Luo, D., Chen, X., Liu, L., Zhao, D., and Yan, R. (2024). Lift yourself up: Retrieval-\n"
     ]
    }
   ],
   "source": [
    "print(example2[\"chunk\"])"
   ]
  },
  {
   "cell_type": "markdown",
   "metadata": {},
   "source": [
    "Remember to update the folder paths before running the notebook."
   ]
  }
 ],
 "metadata": {
  "kernelspec": {
   "display_name": ".venv",
   "language": "python",
   "name": "python3"
  },
  "language_info": {
   "codemirror_mode": {
    "name": "ipython",
    "version": 3
   },
   "file_extension": ".py",
   "mimetype": "text/x-python",
   "name": "python",
   "nbconvert_exporter": "python",
   "pygments_lexer": "ipython3",
   "version": "3.10.13"
  }
 },
 "nbformat": 4,
 "nbformat_minor": 5
}
