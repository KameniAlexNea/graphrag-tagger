{
 "cells": [
  {
   "cell_type": "markdown",
   "metadata": {},
   "source": [
    "# Example Notebook for Graph Building\n",
    "\n",
    "This notebook demonstrates how to use the `process_graph` function from `build_graph.py` to process JSON files and build/prune a graph."
   ]
  },
  {
   "cell_type": "code",
   "execution_count": null,
   "id": "599c4c0a",
   "metadata": {},
   "outputs": [],
   "source": [
    "%cd .."
   ]
  },
  {
   "cell_type": "code",
   "execution_count": null,
   "metadata": {},
   "outputs": [],
   "source": [
    "import os\n",
    "from graphrag_tagger.build_graph import process_graph\n",
    "\n",
    "# Define sample input and output folders\n",
    "input_folder = (\n",
    "    \"notebook/example/results\"  # update this path to your folder containing JSON files\n",
    ")\n",
    "output_folder = \"notebook/example/results/graph_outputs\"  # update this path to where you want the results saved\n",
    "\n",
    "# Create output folder if it doesn't exist\n",
    "os.makedirs(output_folder, exist_ok=True)\n",
    "\n",
    "# Process graph with a specified threshold percentile (e.g., 97.5)\n",
    "graph = process_graph(\n",
    "    input_folder,\n",
    "    output_folder,\n",
    "    threshold_percentile=97.5,\n",
    "    content_type_filter=\"paragraph\",\n",
    ")\n",
    "\n",
    "# The processed graph is stored in 'graph' and the connected components map is saved to the output folder.\n",
    "print(\"Graph processing completed.\")"
   ]
  },
  {
   "cell_type": "code",
   "execution_count": null,
   "id": "a95bd824",
   "metadata": {},
   "outputs": [],
   "source": [
    "import json\n",
    "import os\n",
    "\n",
    "raw: dict = json.load(open(os.path.join(output_folder, \"connected_components.json\")))\n",
    "\n",
    "len(raw)"
   ]
  },
  {
   "cell_type": "code",
   "execution_count": null,
   "id": "0b3953f1",
   "metadata": {},
   "outputs": [],
   "source": [
    "raw[\"0\"]"
   ]
  },
  {
   "cell_type": "code",
   "execution_count": null,
   "id": "a0bbbd77",
   "metadata": {},
   "outputs": [],
   "source": [
    "len(set(raw.values())) # unique tag"
   ]
  },
  {
   "cell_type": "code",
   "execution_count": null,
   "id": "c092959c",
   "metadata": {},
   "outputs": [],
   "source": [
    "connected_chunks = {}\n",
    "for k, v in raw.items():\n",
    "    if v in connected_chunks:\n",
    "        connected_chunks[v].append(int(k) + 1)\n",
    "    else:\n",
    "        connected_chunks[v] = [int(k) + 1]\n",
    "        \n",
    "len(connected_chunks)"
   ]
  },
  {
   "cell_type": "code",
   "execution_count": null,
   "id": "50e3f8f8",
   "metadata": {},
   "outputs": [],
   "source": [
    "examples = []\n",
    "\n",
    "for k, v in connected_chunks.items():\n",
    "    if len(v) > 1:\n",
    "        print(k, v)\n",
    "        if len(v) > len(examples):\n",
    "            examples = v"
   ]
  },
  {
   "cell_type": "code",
   "execution_count": null,
   "id": "14528b00",
   "metadata": {},
   "outputs": [],
   "source": [
    "example1 = json.load(open(os.path.join(input_folder, f\"chunk_{examples[0]}.json\")))\n",
    "example2 = json.load(open(os.path.join(input_folder, f\"chunk_{examples[1]}.json\")))\n",
    "example3 = json.load(open(os.path.join(input_folder, f\"chunk_{examples[2]}.json\")))"
   ]
  },
  {
   "cell_type": "code",
   "execution_count": null,
   "id": "a8790414",
   "metadata": {},
   "outputs": [],
   "source": [
    "print(example1[\"chunk\"])"
   ]
  },
  {
   "cell_type": "code",
   "execution_count": null,
   "id": "ddcbc85f",
   "metadata": {},
   "outputs": [],
   "source": [
    "print(example2[\"chunk\"])"
   ]
  },
  {
   "cell_type": "code",
   "execution_count": null,
   "id": "b5a48e2f",
   "metadata": {},
   "outputs": [],
   "source": [
    "print(example3[\"chunk\"])"
   ]
  },
  {
   "cell_type": "code",
   "execution_count": null,
   "id": "417f6689",
   "metadata": {},
   "outputs": [],
   "source": []
  }
 ],
 "metadata": {
  "kernelspec": {
   "display_name": ".venv",
   "language": "python",
   "name": "python3"
  },
  "language_info": {
   "codemirror_mode": {
    "name": "ipython",
    "version": 3
   },
   "file_extension": ".py",
   "mimetype": "text/x-python",
   "name": "python",
   "nbconvert_exporter": "python",
   "pygments_lexer": "ipython3",
   "version": "3.10.13"
  }
 },
 "nbformat": 4,
 "nbformat_minor": 5
}
