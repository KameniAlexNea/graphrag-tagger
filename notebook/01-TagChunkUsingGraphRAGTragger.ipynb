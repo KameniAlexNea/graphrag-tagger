{
 "cells": [
  {
   "cell_type": "markdown",
   "metadata": {},
   "source": [
    "# Example Notebook for Graphrag-Tagger\n",
    "\n",
    "This notebook demonstrates how to use the Graphrag-Tagger tool. It shows how to import the module and run the tagging pipeline."
   ]
  },
  {
   "cell_type": "code",
   "execution_count": 1,
   "metadata": {},
   "outputs": [
    {
     "name": "stdout",
     "output_type": "stream",
     "text": [
      "/data/home/eak/learning/nganga_ai/graphrag-tagger\n"
     ]
    }
   ],
   "source": [
    "%cd .."
   ]
  },
  {
   "cell_type": "code",
   "execution_count": 2,
   "metadata": {},
   "outputs": [
    {
     "name": "stderr",
     "output_type": "stream",
     "text": [
      "None of PyTorch, TensorFlow >= 2.0, or Flax have been found. Models won't be available and only tokenizers, configuration and file/data utilities can be used.\n"
     ]
    }
   ],
   "source": [
    "import os\n",
    "from graphrag_tagger import tagger\n",
    "\n",
    "# Define sample parameters\n",
    "params = {\n",
    "    'pdf_folder': 'notebook/example',  # update path to your PDF folder\n",
    "    'chunk_size': 256,\n",
    "    'chunk_overlap': 25,\n",
    "    'n_components': None,\n",
    "    'n_features': 512,\n",
    "    'min_df': 2,\n",
    "    'max_df': 0.95,\n",
    "    'llm_model': 'ollama:qwen2.5',\n",
    "    'output_folder': 'notebook/example/results',  # update path to your output folder\n",
    "    'model_choice': 'kt' # kt for ktrain or sk for scikit-learn\n",
    "}"
   ]
  },
  {
   "cell_type": "code",
   "execution_count": 3,
   "metadata": {},
   "outputs": [
    {
     "name": "stdout",
     "output_type": "stream",
     "text": [
      "Total chunk texts: 114\n",
      "n_topics automatically set to 7\n",
      "lang: en\n",
      "preprocessing texts...\n",
      "fitting model...\n",
      "iteration: 1 of max_iter: 5\n",
      "iteration: 2 of max_iter: 5\n",
      "iteration: 3 of max_iter: 5\n",
      "iteration: 4 of max_iter: 5\n",
      "iteration: 5 of max_iter: 5\n",
      "done.\n",
      "done.\n",
      "Topics extracted:\n",
      "community arxiv information preprint graph answering summarization entities knowledge report\n",
      "answer question figures public entertainment better provide example rag various\n",
      "entities delimiter entity relationships tuple community llm claims chunk text\n",
      "arxiv language models preprint knowledge large graph march plaza verdant\n",
      "entity llm rag global answer summaries sensemaking text approach questions\n",
      "community summaries graph condition comprehensiveness global dataset communities news average\n",
      "response data questions user reports format length relevant corpus global\n",
      "Saving topics at: notebook/example/results/topics.json\n",
      "Topics cleaned:\n",
      "Community Knowledge\n",
      "LLM Answers\n",
      "Graph Summaries\n",
      "Preprints Research\n",
      "Entities Relationships\n"
     ]
    },
    {
     "name": "stderr",
     "output_type": "stream",
     "text": [
      "Generating Tags: 100%|██████████| 114/114 [02:53<00:00,  1.52s/it]"
     ]
    },
    {
     "name": "stdout",
     "output_type": "stream",
     "text": [
      "Saved 114 chunk files to notebook/example/results\n"
     ]
    },
    {
     "name": "stderr",
     "output_type": "stream",
     "text": [
      "\n"
     ]
    }
   ],
   "source": [
    "# Create output folder if it doesn't exist\n",
    "os.makedirs(params['output_folder'], exist_ok=True)\n",
    "\n",
    "# Run the tagging pipeline\n",
    "tagger.main(params)\n",
    "\n",
    "# The results will be saved in the specified output folder."
   ]
  },
  {
   "cell_type": "code",
   "execution_count": 17,
   "metadata": {},
   "outputs": [
    {
     "data": {
      "text/plain": [
       "114"
      ]
     },
     "execution_count": 17,
     "metadata": {},
     "output_type": "execute_result"
    }
   ],
   "source": [
    "from glob import glob\n",
    "import os\n",
    "\n",
    "files = glob(os.path.join(params[\"output_folder\"], \"chunk_*.json\"))\n",
    "len(files)"
   ]
  },
  {
   "cell_type": "code",
   "execution_count": 18,
   "metadata": {},
   "outputs": [],
   "source": [
    "import json\n",
    "\n",
    "raws: list[dict] = [json.load(open(file)) for file in files]\n",
    "\n",
    "for i, raw in enumerate(raws):\n",
    "    if \"chunk\" not in raw:\n",
    "        print(i, raw)"
   ]
  },
  {
   "cell_type": "code",
   "execution_count": 25,
   "metadata": {},
   "outputs": [
    {
     "data": {
      "text/plain": [
       "{'chunk': 'Jacomy, M., Venturini, T., Heymann, S., and Bastian, M. (2014). Forceatlas2, a continuous graph\\nlayout algorithm for handy network visualization designed for the gephi software. PLoS ONE\\n9(6): e98679. https://doi.org/10.1371/journal.pone.0098679.\\nJin, D., Yu, Z., Jiao, P., Pan, S., He, D., Wu, J., Philip, S. Y., and Zhang, W. (2021). A survey of\\ncommunity detection approaches: From statistical modeling to deep learning. IEEE Transactions\\non Knowledge and Data Engineering, 35(2):1149–1170.\\nKang, M., Kwak, J. M., Baek, J., and Hwang, S. J. (2023). Knowledge graph-augmented language\\nmodels for knowledge-grounded dialogue generation. arXiv preprint arXiv:2305.18846.',\n",
       " 'source_file': 'notebook/example/GraphRagPaper.pdf',\n",
       " 'classification': {'content_type': 'paragraph',\n",
       "  'is_sufficient': True,\n",
       "  'topics': ['Topic 3', 'Topic 4']}}"
      ]
     },
     "execution_count": 25,
     "metadata": {},
     "output_type": "execute_result"
    }
   ],
   "source": [
    "raw"
   ]
  },
  {
   "cell_type": "code",
   "execution_count": 51,
   "metadata": {},
   "outputs": [
    {
     "data": {
      "text/plain": [
       "dict_keys(['chunk', 'source_file', 'content_type', 'is_sufficient', 'topics'])"
      ]
     },
     "execution_count": 51,
     "metadata": {},
     "output_type": "execute_result"
    }
   ],
   "source": [
    "import json\n",
    "\n",
    "raws: list[dict] = [json.load(open(file)) for file in files]\n",
    "raws = [{\n",
    "    \"chunk\": raw[\"chunk\"],\n",
    "    \"source_file\": raw[\"source_file\"],\n",
    "    **raw[\"classification\"],\n",
    "} for raw in raws]\n",
    "\n",
    "raws[0].keys()"
   ]
  },
  {
   "cell_type": "code",
   "execution_count": 52,
   "metadata": {},
   "outputs": [
    {
     "name": "stdout",
     "output_type": "stream",
     "text": [
      "Retrieval augmented generation (RAG) (Lewis et al., 2020) is an established approach to using\n",
      "LLMs to answer queries based on data that is too large to contain in a language model’s context\n",
      "window, meaning the maximum number of tokens (units of text) that can be processed by the LLM\n",
      "at once (Kuratov et al., 2024; Liu et al., 2023). In the canonical RAG setup, the system has access to\n",
      "a large external corpus of text records and retrieves a subset of records that are individually relevant\n",
      "to the query and collectively small enough to fit into the context window of the LLM. The LLM then\n",
      "Preprint. Under review.\n",
      "arXiv:2404.16130v2  [cs.CL]  19 Feb 2025\n"
     ]
    }
   ],
   "source": [
    "print(raws[19][\"chunk\"])"
   ]
  },
  {
   "cell_type": "code",
   "execution_count": 53,
   "metadata": {},
   "outputs": [
    {
     "name": "stdout",
     "output_type": "stream",
     "text": [
      "{'chunk': 'Retrieval augmented generation (RAG) (Lewis et al., 2020) is an established approach to using\\nLLMs to answer queries based on data that is too large to contain in a language model’s context\\nwindow, meaning the maximum number of tokens (units of text) that can be processed by the LLM\\nat once (Kuratov et al., 2024; Liu et al., 2023). In the canonical RAG setup, the system has access to\\na large external corpus of text records and retrieves a subset of records that are individually relevant\\nto the query and collectively small enough to fit into the context window of the LLM. The LLM then\\nPreprint. Under review.\\narXiv:2404.16130v2  [cs.CL]  19 Feb 2025', 'source_file': 'notebook/example/GraphRagPaper.pdf', 'content_type': 'paragraph', 'is_sufficient': True, 'topics': ['Topic 2', 'Topic 4']}\n"
     ]
    }
   ],
   "source": [
    "print(raws[19])"
   ]
  },
  {
   "cell_type": "code",
   "execution_count": 54,
   "metadata": {},
   "outputs": [
    {
     "name": "stdout",
     "output_type": "stream",
     "text": [
      "notebook/example/GraphRagPaper.pdf\n"
     ]
    }
   ],
   "source": [
    "print(raws[19][\"source_file\"])"
   ]
  },
  {
   "cell_type": "code",
   "execution_count": 55,
   "metadata": {},
   "outputs": [
    {
     "data": {
      "text/html": [
       "<div>\n",
       "<style scoped>\n",
       "    .dataframe tbody tr th:only-of-type {\n",
       "        vertical-align: middle;\n",
       "    }\n",
       "\n",
       "    .dataframe tbody tr th {\n",
       "        vertical-align: top;\n",
       "    }\n",
       "\n",
       "    .dataframe thead th {\n",
       "        text-align: right;\n",
       "    }\n",
       "</style>\n",
       "<table border=\"1\" class=\"dataframe\">\n",
       "  <thead>\n",
       "    <tr style=\"text-align: right;\">\n",
       "      <th></th>\n",
       "      <th>chunk</th>\n",
       "      <th>source_file</th>\n",
       "      <th>content_type</th>\n",
       "      <th>is_sufficient</th>\n",
       "      <th>topics</th>\n",
       "    </tr>\n",
       "  </thead>\n",
       "  <tbody>\n",
       "    <tr>\n",
       "      <th>0</th>\n",
       "      <td>}},\\n{{\\n\"summary\":\\n\"Harmony Assembly’s role ...</td>\n",
       "      <td>notebook/example/GraphRagPaper.pdf</td>\n",
       "      <td>paragraph</td>\n",
       "      <td>True</td>\n",
       "      <td>[Topic 1, Topic 2, Topic 5]</td>\n",
       "    </tr>\n",
       "    <tr>\n",
       "      <th>1</th>\n",
       "      <td>level communities are used to generate summari...</td>\n",
       "      <td>notebook/example/GraphRagPaper.pdf</td>\n",
       "      <td>paragraph</td>\n",
       "      <td>True</td>\n",
       "      <td>[Topic 1, Topic 3]</td>\n",
       "    </tr>\n",
       "    <tr>\n",
       "      <th>2</th>\n",
       "      <td>tions on Knowledge Discovery from Data (TKDD),...</td>\n",
       "      <td>notebook/example/GraphRagPaper.pdf</td>\n",
       "      <td>paragraph</td>\n",
       "      <td>True</td>\n",
       "      <td>[Topic 4, Topic 3, Topic 2]</td>\n",
       "    </tr>\n",
       "    <tr>\n",
       "      <th>3</th>\n",
       "      <td>55.8\\n73.5\\n100\\n2.3\\n20.7\\n57.4\\n66.8\\n100\\np...</td>\n",
       "      <td>notebook/example/GraphRagPaper.pdf</td>\n",
       "      <td>paragraph</td>\n",
       "      <td>True</td>\n",
       "      <td>[Topic 3, Topic 1]</td>\n",
       "    </tr>\n",
       "    <tr>\n",
       "      <th>4</th>\n",
       "      <td>• SS. An implementation of vector RAG in which...</td>\n",
       "      <td>notebook/example/GraphRagPaper.pdf</td>\n",
       "      <td>paragraph</td>\n",
       "      <td>True</td>\n",
       "      <td>[Topic 4, Topic 5]</td>\n",
       "    </tr>\n",
       "    <tr>\n",
       "      <th>...</th>\n",
       "      <td>...</td>\n",
       "      <td>...</td>\n",
       "      <td>...</td>\n",
       "      <td>...</td>\n",
       "      <td>...</td>\n",
       "    </tr>\n",
       "    <tr>\n",
       "      <th>109</th>\n",
       "      <td>the topic without being misled or making falla...</td>\n",
       "      <td>notebook/example/GraphRagPaper.pdf</td>\n",
       "      <td>paragraph</td>\n",
       "      <td>True</td>\n",
       "      <td>[Topic 2, Topic 1]</td>\n",
       "    </tr>\n",
       "    <tr>\n",
       "      <th>110</th>\n",
       "      <td>Many benchmark datasets for open-domain questi...</td>\n",
       "      <td>notebook/example/GraphRagPaper.pdf</td>\n",
       "      <td>paragraph</td>\n",
       "      <td>True</td>\n",
       "      <td>[Topic 2, Topic 4]</td>\n",
       "    </tr>\n",
       "    <tr>\n",
       "      <th>111</th>\n",
       "      <td>52\\n51\\n43\\n41\\n50\\n49\\n47\\n48\\n48\\n45\\n51\\n50...</td>\n",
       "      <td>notebook/example/GraphRagPaper.pdf</td>\n",
       "      <td>table</td>\n",
       "      <td>True</td>\n",
       "      <td>[LLM Answers, Entities Relationships]</td>\n",
       "    </tr>\n",
       "    <tr>\n",
       "      <th>112</th>\n",
       "      <td>-2.16\\n0.184\\nC3\\nTS\\n54.32\\n45.68\\n-2.39\\n0.1...</td>\n",
       "      <td>notebook/example/GraphRagPaper.pdf</td>\n",
       "      <td>table</td>\n",
       "      <td>True</td>\n",
       "      <td>[Topic 4, Topic 5]</td>\n",
       "    </tr>\n",
       "    <tr>\n",
       "      <th>113</th>\n",
       "      <td>Jacomy, M., Venturini, T., Heymann, S., and Ba...</td>\n",
       "      <td>notebook/example/GraphRagPaper.pdf</td>\n",
       "      <td>paragraph</td>\n",
       "      <td>True</td>\n",
       "      <td>[Topic 3, Topic 4]</td>\n",
       "    </tr>\n",
       "  </tbody>\n",
       "</table>\n",
       "<p>114 rows × 5 columns</p>\n",
       "</div>"
      ],
      "text/plain": [
       "                                                 chunk  \\\n",
       "0    }},\\n{{\\n\"summary\":\\n\"Harmony Assembly’s role ...   \n",
       "1    level communities are used to generate summari...   \n",
       "2    tions on Knowledge Discovery from Data (TKDD),...   \n",
       "3    55.8\\n73.5\\n100\\n2.3\\n20.7\\n57.4\\n66.8\\n100\\np...   \n",
       "4    • SS. An implementation of vector RAG in which...   \n",
       "..                                                 ...   \n",
       "109  the topic without being misled or making falla...   \n",
       "110  Many benchmark datasets for open-domain questi...   \n",
       "111  52\\n51\\n43\\n41\\n50\\n49\\n47\\n48\\n48\\n45\\n51\\n50...   \n",
       "112  -2.16\\n0.184\\nC3\\nTS\\n54.32\\n45.68\\n-2.39\\n0.1...   \n",
       "113  Jacomy, M., Venturini, T., Heymann, S., and Ba...   \n",
       "\n",
       "                            source_file content_type  is_sufficient  \\\n",
       "0    notebook/example/GraphRagPaper.pdf    paragraph           True   \n",
       "1    notebook/example/GraphRagPaper.pdf    paragraph           True   \n",
       "2    notebook/example/GraphRagPaper.pdf    paragraph           True   \n",
       "3    notebook/example/GraphRagPaper.pdf    paragraph           True   \n",
       "4    notebook/example/GraphRagPaper.pdf    paragraph           True   \n",
       "..                                  ...          ...            ...   \n",
       "109  notebook/example/GraphRagPaper.pdf    paragraph           True   \n",
       "110  notebook/example/GraphRagPaper.pdf    paragraph           True   \n",
       "111  notebook/example/GraphRagPaper.pdf        table           True   \n",
       "112  notebook/example/GraphRagPaper.pdf        table           True   \n",
       "113  notebook/example/GraphRagPaper.pdf    paragraph           True   \n",
       "\n",
       "                                    topics  \n",
       "0              [Topic 1, Topic 2, Topic 5]  \n",
       "1                       [Topic 1, Topic 3]  \n",
       "2              [Topic 4, Topic 3, Topic 2]  \n",
       "3                       [Topic 3, Topic 1]  \n",
       "4                       [Topic 4, Topic 5]  \n",
       "..                                     ...  \n",
       "109                     [Topic 2, Topic 1]  \n",
       "110                     [Topic 2, Topic 4]  \n",
       "111  [LLM Answers, Entities Relationships]  \n",
       "112                     [Topic 4, Topic 5]  \n",
       "113                     [Topic 3, Topic 4]  \n",
       "\n",
       "[114 rows x 5 columns]"
      ]
     },
     "execution_count": 55,
     "metadata": {},
     "output_type": "execute_result"
    }
   ],
   "source": [
    "import pandas as pd\n",
    "\n",
    "chunk_classification = pd.DataFrame(raws)\n",
    "\n",
    "chunk_classification"
   ]
  },
  {
   "cell_type": "code",
   "execution_count": 56,
   "metadata": {},
   "outputs": [
    {
     "data": {
      "text/plain": [
       "count    114.000000\n",
       "mean       1.982456\n",
       "std        0.531860\n",
       "min        0.000000\n",
       "25%        2.000000\n",
       "50%        2.000000\n",
       "75%        2.000000\n",
       "max        3.000000\n",
       "Name: topics, dtype: float64"
      ]
     },
     "execution_count": 56,
     "metadata": {},
     "output_type": "execute_result"
    }
   ],
   "source": [
    "chunk_classification[\"topics\"].apply(lambda x: len(x) if x else 0).describe()"
   ]
  },
  {
   "cell_type": "code",
   "execution_count": 57,
   "metadata": {},
   "outputs": [
    {
     "data": {
      "text/html": [
       "<div>\n",
       "<style scoped>\n",
       "    .dataframe tbody tr th:only-of-type {\n",
       "        vertical-align: middle;\n",
       "    }\n",
       "\n",
       "    .dataframe tbody tr th {\n",
       "        vertical-align: top;\n",
       "    }\n",
       "\n",
       "    .dataframe thead th {\n",
       "        text-align: right;\n",
       "    }\n",
       "</style>\n",
       "<table border=\"1\" class=\"dataframe\">\n",
       "  <thead>\n",
       "    <tr style=\"text-align: right;\">\n",
       "      <th></th>\n",
       "      <th>chunk</th>\n",
       "      <th>source_file</th>\n",
       "      <th>content_type</th>\n",
       "      <th>is_sufficient</th>\n",
       "      <th>topics</th>\n",
       "    </tr>\n",
       "  </thead>\n",
       "  <tbody>\n",
       "    <tr>\n",
       "      <th>35</th>\n",
       "      <td>Acknowledgements\\nWe would also like to thank ...</td>\n",
       "      <td>notebook/example/GraphRagPaper.pdf</td>\n",
       "      <td>header</td>\n",
       "      <td>False</td>\n",
       "      <td>[]</td>\n",
       "    </tr>\n",
       "  </tbody>\n",
       "</table>\n",
       "</div>"
      ],
      "text/plain": [
       "                                                chunk  \\\n",
       "35  Acknowledgements\\nWe would also like to thank ...   \n",
       "\n",
       "                           source_file content_type  is_sufficient topics  \n",
       "35  notebook/example/GraphRagPaper.pdf       header          False     []  "
      ]
     },
     "execution_count": 57,
     "metadata": {},
     "output_type": "execute_result"
    }
   ],
   "source": [
    "chunk_classification[chunk_classification[\"topics\"].apply(len) == 0]"
   ]
  },
  {
   "cell_type": "code",
   "execution_count": 58,
   "metadata": {},
   "outputs": [
    {
     "name": "stdout",
     "output_type": "stream",
     "text": [
      "ai workflows for generating personas. In Proceedings of the 2024 ACM Designing Interactive\n",
      "Systems Conference, pages 757–781.\n",
      "Shinn, N., Cassano, F., Gopinath, A., Narasimhan, K., and Yao, S. (2024). Reflexion: Language\n",
      "agents with verbal reinforcement learning. Advances in Neural Information Processing Systems,\n",
      "36.\n",
      "15\n"
     ]
    }
   ],
   "source": [
    "print(raws[36][\"chunk\"])"
   ]
  },
  {
   "cell_type": "code",
   "execution_count": 59,
   "metadata": {},
   "outputs": [
    {
     "data": {
      "text/html": [
       "<div>\n",
       "<style scoped>\n",
       "    .dataframe tbody tr th:only-of-type {\n",
       "        vertical-align: middle;\n",
       "    }\n",
       "\n",
       "    .dataframe tbody tr th {\n",
       "        vertical-align: top;\n",
       "    }\n",
       "\n",
       "    .dataframe thead th {\n",
       "        text-align: right;\n",
       "    }\n",
       "</style>\n",
       "<table border=\"1\" class=\"dataframe\">\n",
       "  <thead>\n",
       "    <tr style=\"text-align: right;\">\n",
       "      <th></th>\n",
       "      <th>chunk</th>\n",
       "      <th>source_file</th>\n",
       "      <th>content_type</th>\n",
       "      <th>is_sufficient</th>\n",
       "      <th>topics</th>\n",
       "    </tr>\n",
       "  </thead>\n",
       "  <tbody>\n",
       "    <tr>\n",
       "      <th>10</th>\n",
       "      <td>G\\nStatistical Analysis\\nTable 6: Pairwise com...</td>\n",
       "      <td>notebook/example/GraphRagPaper.pdf</td>\n",
       "      <td>table</td>\n",
       "      <td>True</td>\n",
       "      <td>[Topic 4]</td>\n",
       "    </tr>\n",
       "    <tr>\n",
       "      <th>13</th>\n",
       "      <td>ids and add \"+more\" to indicate that there are...</td>\n",
       "      <td>notebook/example/GraphRagPaper.pdf</td>\n",
       "      <td>paragraph</td>\n",
       "      <td>True</td>\n",
       "      <td>[Topic 5]</td>\n",
       "    </tr>\n",
       "    <tr>\n",
       "      <th>20</th>\n",
       "      <td>C0\\nC1\\n46.96\\n53.04\\n-2.87\\n0.037\\n47.6\\n52.4...</td>\n",
       "      <td>notebook/example/GraphRagPaper.pdf</td>\n",
       "      <td>table</td>\n",
       "      <td>True</td>\n",
       "      <td>[Topic 3]</td>\n",
       "    </tr>\n",
       "    <tr>\n",
       "      <th>26</th>\n",
       "      <td>49.76\\n-0.06\\n1\\n55.52\\n44.48\\n-2.03\\n0.17\\nC1...</td>\n",
       "      <td>notebook/example/GraphRagPaper.pdf</td>\n",
       "      <td>table</td>\n",
       "      <td>True</td>\n",
       "      <td>[LLM Answers]</td>\n",
       "    </tr>\n",
       "    <tr>\n",
       "      <th>38</th>\n",
       "      <td>\"summary\":\\n\"Role of Tribune Spotlight\", \"expl...</td>\n",
       "      <td>notebook/example/GraphRagPaper.pdf</td>\n",
       "      <td>paragraph</td>\n",
       "      <td>True</td>\n",
       "      <td>[Topic 5]</td>\n",
       "    </tr>\n",
       "    <tr>\n",
       "      <th>41</th>\n",
       "      <td>58\\n55\\n79\\n62\\n46\\n42\\n50\\n59\\n79\\n64\\n48\\n45...</td>\n",
       "      <td>notebook/example/GraphRagPaper.pdf</td>\n",
       "      <td>table</td>\n",
       "      <td>True</td>\n",
       "      <td>[Topic 4]</td>\n",
       "    </tr>\n",
       "    <tr>\n",
       "      <th>68</th>\n",
       "      <td>in which we first ask the LLM to assess whethe...</td>\n",
       "      <td>notebook/example/GraphRagPaper.pdf</td>\n",
       "      <td>figure_caption</td>\n",
       "      <td>True</td>\n",
       "      <td>[Topic 5]</td>\n",
       "    </tr>\n",
       "    <tr>\n",
       "      <th>70</th>\n",
       "      <td>50.96\\n49.04\\n-0.39\\n1\\nEmpowerment\\nC0\\nTS\\n4...</td>\n",
       "      <td>notebook/example/GraphRagPaper.pdf</td>\n",
       "      <td>table</td>\n",
       "      <td>True</td>\n",
       "      <td>[LLM Answers]</td>\n",
       "    </tr>\n",
       "    <tr>\n",
       "      <th>86</th>\n",
       "      <td>TS\\n48.08\\n51.92\\n-2.23\\n0.179\\n48.32\\n51.68\\n...</td>\n",
       "      <td>notebook/example/GraphRagPaper.pdf</td>\n",
       "      <td>table</td>\n",
       "      <td>True</td>\n",
       "      <td>[Topic 4]</td>\n",
       "    </tr>\n",
       "    <tr>\n",
       "      <th>87</th>\n",
       "      <td>Table 4: Average number of clusters across dif...</td>\n",
       "      <td>notebook/example/GraphRagPaper.pdf</td>\n",
       "      <td>table</td>\n",
       "      <td>True</td>\n",
       "      <td>[Topic 4]</td>\n",
       "    </tr>\n",
       "    <tr>\n",
       "      <th>95</th>\n",
       "      <td>benchmark interest rate steady in a range of 5...</td>\n",
       "      <td>notebook/example/GraphRagPaper.pdf</td>\n",
       "      <td>paragraph</td>\n",
       "      <td>True</td>\n",
       "      <td>[Topic 5]</td>\n",
       "    </tr>\n",
       "    <tr>\n",
       "      <th>100</th>\n",
       "      <td>arXiv:2212.10509.\\nWang, J., Liang, Y., Meng, ...</td>\n",
       "      <td>notebook/example/GraphRagPaper.pdf</td>\n",
       "      <td>list</td>\n",
       "      <td>True</td>\n",
       "      <td>[Topic 4]</td>\n",
       "    </tr>\n",
       "    <tr>\n",
       "      <th>105</th>\n",
       "      <td>E\\nSystem Prompts\\nE.1\\nElement Instance Gener...</td>\n",
       "      <td>notebook/example/GraphRagPaper.pdf</td>\n",
       "      <td>paragraph</td>\n",
       "      <td>True</td>\n",
       "      <td>[Topic 5]</td>\n",
       "    </tr>\n",
       "    <tr>\n",
       "      <th>108</th>\n",
       "      <td>but do not mention the roles of multiple analy...</td>\n",
       "      <td>notebook/example/GraphRagPaper.pdf</td>\n",
       "      <td>paragraph</td>\n",
       "      <td>True</td>\n",
       "      <td>[Topic 5]</td>\n",
       "    </tr>\n",
       "  </tbody>\n",
       "</table>\n",
       "</div>"
      ],
      "text/plain": [
       "                                                 chunk  \\\n",
       "10   G\\nStatistical Analysis\\nTable 6: Pairwise com...   \n",
       "13   ids and add \"+more\" to indicate that there are...   \n",
       "20   C0\\nC1\\n46.96\\n53.04\\n-2.87\\n0.037\\n47.6\\n52.4...   \n",
       "26   49.76\\n-0.06\\n1\\n55.52\\n44.48\\n-2.03\\n0.17\\nC1...   \n",
       "38   \"summary\":\\n\"Role of Tribune Spotlight\", \"expl...   \n",
       "41   58\\n55\\n79\\n62\\n46\\n42\\n50\\n59\\n79\\n64\\n48\\n45...   \n",
       "68   in which we first ask the LLM to assess whethe...   \n",
       "70   50.96\\n49.04\\n-0.39\\n1\\nEmpowerment\\nC0\\nTS\\n4...   \n",
       "86   TS\\n48.08\\n51.92\\n-2.23\\n0.179\\n48.32\\n51.68\\n...   \n",
       "87   Table 4: Average number of clusters across dif...   \n",
       "95   benchmark interest rate steady in a range of 5...   \n",
       "100  arXiv:2212.10509.\\nWang, J., Liang, Y., Meng, ...   \n",
       "105  E\\nSystem Prompts\\nE.1\\nElement Instance Gener...   \n",
       "108  but do not mention the roles of multiple analy...   \n",
       "\n",
       "                            source_file    content_type  is_sufficient  \\\n",
       "10   notebook/example/GraphRagPaper.pdf           table           True   \n",
       "13   notebook/example/GraphRagPaper.pdf       paragraph           True   \n",
       "20   notebook/example/GraphRagPaper.pdf           table           True   \n",
       "26   notebook/example/GraphRagPaper.pdf           table           True   \n",
       "38   notebook/example/GraphRagPaper.pdf       paragraph           True   \n",
       "41   notebook/example/GraphRagPaper.pdf           table           True   \n",
       "68   notebook/example/GraphRagPaper.pdf  figure_caption           True   \n",
       "70   notebook/example/GraphRagPaper.pdf           table           True   \n",
       "86   notebook/example/GraphRagPaper.pdf           table           True   \n",
       "87   notebook/example/GraphRagPaper.pdf           table           True   \n",
       "95   notebook/example/GraphRagPaper.pdf       paragraph           True   \n",
       "100  notebook/example/GraphRagPaper.pdf            list           True   \n",
       "105  notebook/example/GraphRagPaper.pdf       paragraph           True   \n",
       "108  notebook/example/GraphRagPaper.pdf       paragraph           True   \n",
       "\n",
       "            topics  \n",
       "10       [Topic 4]  \n",
       "13       [Topic 5]  \n",
       "20       [Topic 3]  \n",
       "26   [LLM Answers]  \n",
       "38       [Topic 5]  \n",
       "41       [Topic 4]  \n",
       "68       [Topic 5]  \n",
       "70   [LLM Answers]  \n",
       "86       [Topic 4]  \n",
       "87       [Topic 4]  \n",
       "95       [Topic 5]  \n",
       "100      [Topic 4]  \n",
       "105      [Topic 5]  \n",
       "108      [Topic 5]  "
      ]
     },
     "execution_count": 59,
     "metadata": {},
     "output_type": "execute_result"
    }
   ],
   "source": [
    "chunk_classification[chunk_classification[\"topics\"].apply(len) == 1]"
   ]
  },
  {
   "cell_type": "code",
   "execution_count": 60,
   "metadata": {},
   "outputs": [
    {
     "name": "stdout",
     "output_type": "stream",
     "text": [
      "38,VERDANT OASIS PLAZA,HARMONY ASSEMBLY,Harmony Assembly is holding a march at Verdant Oasis Plaza\n",
      "39,VERDANT OASIS PLAZA,UNITY MARCH,The Unity March is taking place at Verdant Oasis Plaza\n",
      "40,VERDANT OASIS PLAZA,TRIBUNE SPOTLIGHT,Tribune Spotlight is reporting on the Unity march taking place at\n",
      "Verdant Oasis Plaza\n",
      "41,VERDANT OASIS PLAZA,BAILEY ASADI,Bailey Asadi is speaking at Verdant Oasis Plaza about the march\n",
      "43,HARMONY ASSEMBLY,UNITY MARCH,Harmony Assembly is organizing the Unity March\n",
      "Output:\n",
      "22\n"
     ]
    }
   ],
   "source": [
    "print(raws[42][\"chunk\"])"
   ]
  },
  {
   "cell_type": "code",
   "execution_count": 61,
   "metadata": {},
   "outputs": [
    {
     "data": {
      "text/html": [
       "<div>\n",
       "<style scoped>\n",
       "    .dataframe tbody tr th:only-of-type {\n",
       "        vertical-align: middle;\n",
       "    }\n",
       "\n",
       "    .dataframe tbody tr th {\n",
       "        vertical-align: top;\n",
       "    }\n",
       "\n",
       "    .dataframe thead th {\n",
       "        text-align: right;\n",
       "    }\n",
       "</style>\n",
       "<table border=\"1\" class=\"dataframe\">\n",
       "  <thead>\n",
       "    <tr style=\"text-align: right;\">\n",
       "      <th></th>\n",
       "      <th>chunk</th>\n",
       "      <th>source_file</th>\n",
       "      <th>content_type</th>\n",
       "      <th>is_sufficient</th>\n",
       "      <th>topics</th>\n",
       "    </tr>\n",
       "  </thead>\n",
       "  <tbody>\n",
       "    <tr>\n",
       "      <th>1</th>\n",
       "      <td>level communities are used to generate summari...</td>\n",
       "      <td>notebook/example/GraphRagPaper.pdf</td>\n",
       "      <td>paragraph</td>\n",
       "      <td>True</td>\n",
       "      <td>[Topic 1, Topic 3]</td>\n",
       "    </tr>\n",
       "    <tr>\n",
       "      <th>3</th>\n",
       "      <td>55.8\\n73.5\\n100\\n2.3\\n20.7\\n57.4\\n66.8\\n100\\np...</td>\n",
       "      <td>notebook/example/GraphRagPaper.pdf</td>\n",
       "      <td>paragraph</td>\n",
       "      <td>True</td>\n",
       "      <td>[Topic 3, Topic 1]</td>\n",
       "    </tr>\n",
       "    <tr>\n",
       "      <th>4</th>\n",
       "      <td>• SS. An implementation of vector RAG in which...</td>\n",
       "      <td>notebook/example/GraphRagPaper.pdf</td>\n",
       "      <td>paragraph</td>\n",
       "      <td>True</td>\n",
       "      <td>[Topic 4, Topic 5]</td>\n",
       "    </tr>\n",
       "    <tr>\n",
       "      <th>5</th>\n",
       "      <td>4.1.3\\nConfiguration\\nWe used a fixed context ...</td>\n",
       "      <td>notebook/example/GraphRagPaper.pdf</td>\n",
       "      <td>paragraph</td>\n",
       "      <td>True</td>\n",
       "      <td>[Topic 2, Topic 3]</td>\n",
       "    </tr>\n",
       "    <tr>\n",
       "      <th>6</th>\n",
       "      <td>Each level of this hierarchy provides a commun...</td>\n",
       "      <td>notebook/example/GraphRagPaper.pdf</td>\n",
       "      <td>paragraph</td>\n",
       "      <td>True</td>\n",
       "      <td>[Topic 3, Topic 1]</td>\n",
       "    </tr>\n",
       "    <tr>\n",
       "      <th>...</th>\n",
       "      <td>...</td>\n",
       "      <td>...</td>\n",
       "      <td>...</td>\n",
       "      <td>...</td>\n",
       "      <td>...</td>\n",
       "    </tr>\n",
       "    <tr>\n",
       "      <th>109</th>\n",
       "      <td>the topic without being misled or making falla...</td>\n",
       "      <td>notebook/example/GraphRagPaper.pdf</td>\n",
       "      <td>paragraph</td>\n",
       "      <td>True</td>\n",
       "      <td>[Topic 2, Topic 1]</td>\n",
       "    </tr>\n",
       "    <tr>\n",
       "      <th>110</th>\n",
       "      <td>Many benchmark datasets for open-domain questi...</td>\n",
       "      <td>notebook/example/GraphRagPaper.pdf</td>\n",
       "      <td>paragraph</td>\n",
       "      <td>True</td>\n",
       "      <td>[Topic 2, Topic 4]</td>\n",
       "    </tr>\n",
       "    <tr>\n",
       "      <th>111</th>\n",
       "      <td>52\\n51\\n43\\n41\\n50\\n49\\n47\\n48\\n48\\n45\\n51\\n50...</td>\n",
       "      <td>notebook/example/GraphRagPaper.pdf</td>\n",
       "      <td>table</td>\n",
       "      <td>True</td>\n",
       "      <td>[LLM Answers, Entities Relationships]</td>\n",
       "    </tr>\n",
       "    <tr>\n",
       "      <th>112</th>\n",
       "      <td>-2.16\\n0.184\\nC3\\nTS\\n54.32\\n45.68\\n-2.39\\n0.1...</td>\n",
       "      <td>notebook/example/GraphRagPaper.pdf</td>\n",
       "      <td>table</td>\n",
       "      <td>True</td>\n",
       "      <td>[Topic 4, Topic 5]</td>\n",
       "    </tr>\n",
       "    <tr>\n",
       "      <th>113</th>\n",
       "      <td>Jacomy, M., Venturini, T., Heymann, S., and Ba...</td>\n",
       "      <td>notebook/example/GraphRagPaper.pdf</td>\n",
       "      <td>paragraph</td>\n",
       "      <td>True</td>\n",
       "      <td>[Topic 3, Topic 4]</td>\n",
       "    </tr>\n",
       "  </tbody>\n",
       "</table>\n",
       "<p>85 rows × 5 columns</p>\n",
       "</div>"
      ],
      "text/plain": [
       "                                                 chunk  \\\n",
       "1    level communities are used to generate summari...   \n",
       "3    55.8\\n73.5\\n100\\n2.3\\n20.7\\n57.4\\n66.8\\n100\\np...   \n",
       "4    • SS. An implementation of vector RAG in which...   \n",
       "5    4.1.3\\nConfiguration\\nWe used a fixed context ...   \n",
       "6    Each level of this hierarchy provides a commun...   \n",
       "..                                                 ...   \n",
       "109  the topic without being misled or making falla...   \n",
       "110  Many benchmark datasets for open-domain questi...   \n",
       "111  52\\n51\\n43\\n41\\n50\\n49\\n47\\n48\\n48\\n45\\n51\\n50...   \n",
       "112  -2.16\\n0.184\\nC3\\nTS\\n54.32\\n45.68\\n-2.39\\n0.1...   \n",
       "113  Jacomy, M., Venturini, T., Heymann, S., and Ba...   \n",
       "\n",
       "                            source_file content_type  is_sufficient  \\\n",
       "1    notebook/example/GraphRagPaper.pdf    paragraph           True   \n",
       "3    notebook/example/GraphRagPaper.pdf    paragraph           True   \n",
       "4    notebook/example/GraphRagPaper.pdf    paragraph           True   \n",
       "5    notebook/example/GraphRagPaper.pdf    paragraph           True   \n",
       "6    notebook/example/GraphRagPaper.pdf    paragraph           True   \n",
       "..                                  ...          ...            ...   \n",
       "109  notebook/example/GraphRagPaper.pdf    paragraph           True   \n",
       "110  notebook/example/GraphRagPaper.pdf    paragraph           True   \n",
       "111  notebook/example/GraphRagPaper.pdf        table           True   \n",
       "112  notebook/example/GraphRagPaper.pdf        table           True   \n",
       "113  notebook/example/GraphRagPaper.pdf    paragraph           True   \n",
       "\n",
       "                                    topics  \n",
       "1                       [Topic 1, Topic 3]  \n",
       "3                       [Topic 3, Topic 1]  \n",
       "4                       [Topic 4, Topic 5]  \n",
       "5                       [Topic 2, Topic 3]  \n",
       "6                       [Topic 3, Topic 1]  \n",
       "..                                     ...  \n",
       "109                     [Topic 2, Topic 1]  \n",
       "110                     [Topic 2, Topic 4]  \n",
       "111  [LLM Answers, Entities Relationships]  \n",
       "112                     [Topic 4, Topic 5]  \n",
       "113                     [Topic 3, Topic 4]  \n",
       "\n",
       "[85 rows x 5 columns]"
      ]
     },
     "execution_count": 61,
     "metadata": {},
     "output_type": "execute_result"
    }
   ],
   "source": [
    "chunk_classification[chunk_classification[\"topics\"].apply(len) == 2]"
   ]
  },
  {
   "cell_type": "code",
   "execution_count": 62,
   "metadata": {},
   "outputs": [
    {
     "data": {
      "text/html": [
       "<div>\n",
       "<style scoped>\n",
       "    .dataframe tbody tr th:only-of-type {\n",
       "        vertical-align: middle;\n",
       "    }\n",
       "\n",
       "    .dataframe tbody tr th {\n",
       "        vertical-align: top;\n",
       "    }\n",
       "\n",
       "    .dataframe thead th {\n",
       "        text-align: right;\n",
       "    }\n",
       "</style>\n",
       "<table border=\"1\" class=\"dataframe\">\n",
       "  <thead>\n",
       "    <tr style=\"text-align: right;\">\n",
       "      <th></th>\n",
       "      <th>chunk</th>\n",
       "      <th>source_file</th>\n",
       "      <th>content_type</th>\n",
       "      <th>is_sufficient</th>\n",
       "      <th>topics</th>\n",
       "    </tr>\n",
       "  </thead>\n",
       "  <tbody>\n",
       "    <tr>\n",
       "      <th>0</th>\n",
       "      <td>}},\\n{{\\n\"summary\":\\n\"Harmony Assembly’s role ...</td>\n",
       "      <td>notebook/example/GraphRagPaper.pdf</td>\n",
       "      <td>paragraph</td>\n",
       "      <td>True</td>\n",
       "      <td>[Topic 1, Topic 2, Topic 5]</td>\n",
       "    </tr>\n",
       "    <tr>\n",
       "      <th>2</th>\n",
       "      <td>tions on Knowledge Discovery from Data (TKDD),...</td>\n",
       "      <td>notebook/example/GraphRagPaper.pdf</td>\n",
       "      <td>paragraph</td>\n",
       "      <td>True</td>\n",
       "      <td>[Topic 4, Topic 3, Topic 2]</td>\n",
       "    </tr>\n",
       "    <tr>\n",
       "      <th>7</th>\n",
       "      <td>2.2\\nUsing Knowledge Graphs with LLMs and RAG\\...</td>\n",
       "      <td>notebook/example/GraphRagPaper.pdf</td>\n",
       "      <td>paragraph</td>\n",
       "      <td>True</td>\n",
       "      <td>[Topic 2, Topic 3, Topic 4]</td>\n",
       "    </tr>\n",
       "    <tr>\n",
       "      <th>12</th>\n",
       "      <td>models for knowledge-grounded dialogue generat...</td>\n",
       "      <td>notebook/example/GraphRagPaper.pdf</td>\n",
       "      <td>paragraph</td>\n",
       "      <td>True</td>\n",
       "      <td>[Topic 4, Topic 2, Topic 5]</td>\n",
       "    </tr>\n",
       "    <tr>\n",
       "      <th>22</th>\n",
       "      <td>arXiv:2203.11171.\\nWang, Y., Lipka, N., Rossi,...</td>\n",
       "      <td>notebook/example/GraphRagPaper.pdf</td>\n",
       "      <td>paragraph</td>\n",
       "      <td>True</td>\n",
       "      <td>[Topic 4, Topic 2, Topic 3]</td>\n",
       "    </tr>\n",
       "    <tr>\n",
       "      <th>24</th>\n",
       "      <td>et al., 2023) excel at sensemaking in complex ...</td>\n",
       "      <td>notebook/example/GraphRagPaper.pdf</td>\n",
       "      <td>paragraph</td>\n",
       "      <td>True</td>\n",
       "      <td>[Topic 1, Topic 2, Topic 3]</td>\n",
       "    </tr>\n",
       "    <tr>\n",
       "      <th>25</th>\n",
       "      <td>Bhargava, P., Bhosale, S., et al. (2023). Llam...</td>\n",
       "      <td>notebook/example/GraphRagPaper.pdf</td>\n",
       "      <td>paragraph</td>\n",
       "      <td>True</td>\n",
       "      <td>[Topic 4, Topic 2, Topic 3]</td>\n",
       "    </tr>\n",
       "    <tr>\n",
       "      <th>30</th>\n",
       "      <td>Zhang, Y., Zhang, Y., Gan, Y., Yao, L., and Wa...</td>\n",
       "      <td>notebook/example/GraphRagPaper.pdf</td>\n",
       "      <td>paragraph</td>\n",
       "      <td>True</td>\n",
       "      <td>[Topic 4, Topic 2, Topic 3]</td>\n",
       "    </tr>\n",
       "    <tr>\n",
       "      <th>43</th>\n",
       "      <td>are risks to downstream sensemaking and decisi...</td>\n",
       "      <td>notebook/example/GraphRagPaper.pdf</td>\n",
       "      <td>paragraph</td>\n",
       "      <td>True</td>\n",
       "      <td>[Topic 3, Topic 2, Topic 5]</td>\n",
       "    </tr>\n",
       "    <tr>\n",
       "      <th>54</th>\n",
       "      <td>community summaries provide global description...</td>\n",
       "      <td>notebook/example/GraphRagPaper.pdf</td>\n",
       "      <td>paragraph</td>\n",
       "      <td>True</td>\n",
       "      <td>[Topic 1, Topic 2, Topic 3]</td>\n",
       "    </tr>\n",
       "    <tr>\n",
       "      <th>71</th>\n",
       "      <td>Anil, R., Borgeaud, S., Wu, Y., Alayrac, J.-B....</td>\n",
       "      <td>notebook/example/GraphRagPaper.pdf</td>\n",
       "      <td>paragraph</td>\n",
       "      <td>True</td>\n",
       "      <td>[Topic 4, LLM Answers, Entities Relationships]</td>\n",
       "    </tr>\n",
       "    <tr>\n",
       "      <th>73</th>\n",
       "      <td>Klein, G., Moon, B., and Hoffman, R. R. (2006)...</td>\n",
       "      <td>notebook/example/GraphRagPaper.pdf</td>\n",
       "      <td>paragraph</td>\n",
       "      <td>True</td>\n",
       "      <td>[Topic 4, Topic 2, Topic 3]</td>\n",
       "    </tr>\n",
       "    <tr>\n",
       "      <th>77</th>\n",
       "      <td>focused summarization (QFS) task, rather than ...</td>\n",
       "      <td>notebook/example/GraphRagPaper.pdf</td>\n",
       "      <td>paragraph</td>\n",
       "      <td>True</td>\n",
       "      <td>[Topic 3, Topic 2, Topic 5]</td>\n",
       "    </tr>\n",
       "    <tr>\n",
       "      <th>80</th>\n",
       "      <td>G-retriever: Retrieval-augmented generation fo...</td>\n",
       "      <td>notebook/example/GraphRagPaper.pdf</td>\n",
       "      <td>paragraph</td>\n",
       "      <td>True</td>\n",
       "      <td>[Topic 4, Topic 2, Topic 3]</td>\n",
       "    </tr>\n",
       "  </tbody>\n",
       "</table>\n",
       "</div>"
      ],
      "text/plain": [
       "                                                chunk  \\\n",
       "0   }},\\n{{\\n\"summary\":\\n\"Harmony Assembly’s role ...   \n",
       "2   tions on Knowledge Discovery from Data (TKDD),...   \n",
       "7   2.2\\nUsing Knowledge Graphs with LLMs and RAG\\...   \n",
       "12  models for knowledge-grounded dialogue generat...   \n",
       "22  arXiv:2203.11171.\\nWang, Y., Lipka, N., Rossi,...   \n",
       "24  et al., 2023) excel at sensemaking in complex ...   \n",
       "25  Bhargava, P., Bhosale, S., et al. (2023). Llam...   \n",
       "30  Zhang, Y., Zhang, Y., Gan, Y., Yao, L., and Wa...   \n",
       "43  are risks to downstream sensemaking and decisi...   \n",
       "54  community summaries provide global description...   \n",
       "71  Anil, R., Borgeaud, S., Wu, Y., Alayrac, J.-B....   \n",
       "73  Klein, G., Moon, B., and Hoffman, R. R. (2006)...   \n",
       "77  focused summarization (QFS) task, rather than ...   \n",
       "80  G-retriever: Retrieval-augmented generation fo...   \n",
       "\n",
       "                           source_file content_type  is_sufficient  \\\n",
       "0   notebook/example/GraphRagPaper.pdf    paragraph           True   \n",
       "2   notebook/example/GraphRagPaper.pdf    paragraph           True   \n",
       "7   notebook/example/GraphRagPaper.pdf    paragraph           True   \n",
       "12  notebook/example/GraphRagPaper.pdf    paragraph           True   \n",
       "22  notebook/example/GraphRagPaper.pdf    paragraph           True   \n",
       "24  notebook/example/GraphRagPaper.pdf    paragraph           True   \n",
       "25  notebook/example/GraphRagPaper.pdf    paragraph           True   \n",
       "30  notebook/example/GraphRagPaper.pdf    paragraph           True   \n",
       "43  notebook/example/GraphRagPaper.pdf    paragraph           True   \n",
       "54  notebook/example/GraphRagPaper.pdf    paragraph           True   \n",
       "71  notebook/example/GraphRagPaper.pdf    paragraph           True   \n",
       "73  notebook/example/GraphRagPaper.pdf    paragraph           True   \n",
       "77  notebook/example/GraphRagPaper.pdf    paragraph           True   \n",
       "80  notebook/example/GraphRagPaper.pdf    paragraph           True   \n",
       "\n",
       "                                            topics  \n",
       "0                      [Topic 1, Topic 2, Topic 5]  \n",
       "2                      [Topic 4, Topic 3, Topic 2]  \n",
       "7                      [Topic 2, Topic 3, Topic 4]  \n",
       "12                     [Topic 4, Topic 2, Topic 5]  \n",
       "22                     [Topic 4, Topic 2, Topic 3]  \n",
       "24                     [Topic 1, Topic 2, Topic 3]  \n",
       "25                     [Topic 4, Topic 2, Topic 3]  \n",
       "30                     [Topic 4, Topic 2, Topic 3]  \n",
       "43                     [Topic 3, Topic 2, Topic 5]  \n",
       "54                     [Topic 1, Topic 2, Topic 3]  \n",
       "71  [Topic 4, LLM Answers, Entities Relationships]  \n",
       "73                     [Topic 4, Topic 2, Topic 3]  \n",
       "77                     [Topic 3, Topic 2, Topic 5]  \n",
       "80                     [Topic 4, Topic 2, Topic 3]  "
      ]
     },
     "execution_count": 62,
     "metadata": {},
     "output_type": "execute_result"
    }
   ],
   "source": [
    "chunk_classification[chunk_classification[\"topics\"].apply(len) == 3]"
   ]
  },
  {
   "cell_type": "code",
   "execution_count": 64,
   "metadata": {},
   "outputs": [
    {
     "data": {
      "text/plain": [
       "content_type\n",
       "paragraph         90\n",
       "table             17\n",
       "figure_caption     4\n",
       "header             1\n",
       "other              1\n",
       "list               1\n",
       "Name: count, dtype: int64"
      ]
     },
     "execution_count": 64,
     "metadata": {},
     "output_type": "execute_result"
    }
   ],
   "source": [
    "chunk_classification[\"content_type\"].value_counts(normalize=False)"
   ]
  },
  {
   "cell_type": "code",
   "execution_count": 63,
   "metadata": {},
   "outputs": [
    {
     "data": {
      "text/plain": [
       "content_type\n",
       "paragraph         0.789474\n",
       "table             0.149123\n",
       "figure_caption    0.035088\n",
       "header            0.008772\n",
       "other             0.008772\n",
       "list              0.008772\n",
       "Name: proportion, dtype: float64"
      ]
     },
     "execution_count": 63,
     "metadata": {},
     "output_type": "execute_result"
    }
   ],
   "source": [
    "chunk_classification[\"content_type\"].value_counts(normalize=True)"
   ]
  },
  {
   "cell_type": "markdown",
   "metadata": {},
   "source": [
    "Update the paths in the code cell above before running the notebook."
   ]
  }
 ],
 "metadata": {
  "kernelspec": {
   "display_name": ".venv",
   "language": "python",
   "name": "python3"
  },
  "language_info": {
   "codemirror_mode": {
    "name": "ipython",
    "version": 3
   },
   "file_extension": ".py",
   "mimetype": "text/x-python",
   "name": "python",
   "nbconvert_exporter": "python",
   "pygments_lexer": "ipython3",
   "version": "3.10.13"
  }
 },
 "nbformat": 4,
 "nbformat_minor": 2
}
