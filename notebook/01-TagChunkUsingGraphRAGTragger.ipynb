{
 "cells": [
  {
   "cell_type": "markdown",
   "metadata": {},
   "source": [
    "# Example Notebook for Graphrag-Tagger\n",
    "\n",
    "This notebook demonstrates how to use the Graphrag-Tagger tool. It shows how to import the module and run the tagging pipeline."
   ]
  },
  {
   "cell_type": "code",
   "execution_count": null,
   "metadata": {},
   "outputs": [],
   "source": [
    "%cd .."
   ]
  },
  {
   "cell_type": "code",
   "execution_count": null,
   "metadata": {},
   "outputs": [],
   "source": [
    "import os\n",
    "from graphrag_tagger import tagger\n",
    "\n",
    "# Define sample parameters\n",
    "params = {\n",
    "    'pdf_folder': 'notebook/example',  # update path to your PDF folder\n",
    "    'chunk_size': 256,\n",
    "    'chunk_overlap': 25,\n",
    "    'n_components': None,\n",
    "    'n_features': 512,\n",
    "    'min_df': 2,\n",
    "    'max_df': 0.95,\n",
    "    'llm_model': 'ollama:qwen2.5',\n",
    "    'output_folder': 'notebook/example/results',  # update path to your output folder\n",
    "    'model_choice': 'kt' # kt for ktrain or sk for scikit-learn\n",
    "}"
   ]
  },
  {
   "cell_type": "code",
   "execution_count": null,
   "metadata": {},
   "outputs": [],
   "source": [
    "# Create output folder if it doesn't exist\n",
    "os.makedirs(params['output_folder'], exist_ok=True)\n",
    "\n",
    "# Run the tagging pipeline\n",
    "tagger.main(params)\n",
    "\n",
    "# The results will be saved in the specified output folder."
   ]
  },
  {
   "cell_type": "code",
   "execution_count": null,
   "metadata": {},
   "outputs": [],
   "source": [
    "from glob import glob\n",
    "import os\n",
    "\n",
    "files = glob(os.path.join(params[\"output_folder\"], \"chunk_*.json\"))\n",
    "len(files)"
   ]
  },
  {
   "cell_type": "code",
   "execution_count": null,
   "metadata": {},
   "outputs": [],
   "source": [
    "import json\n",
    "\n",
    "raws: list[dict] = [json.load(open(file)) for file in files]\n",
    "\n",
    "for i, raw in enumerate(raws):\n",
    "    if \"chunk\" not in raw:\n",
    "        print(i, raw)"
   ]
  },
  {
   "cell_type": "code",
   "execution_count": null,
   "metadata": {},
   "outputs": [],
   "source": [
    "raw"
   ]
  },
  {
   "cell_type": "code",
   "execution_count": null,
   "metadata": {},
   "outputs": [],
   "source": [
    "import json\n",
    "\n",
    "raws: list[dict] = [json.load(open(file)) for file in files]\n",
    "raws = [{\n",
    "    \"chunk\": raw[\"chunk\"],\n",
    "    \"source_file\": raw[\"source_file\"],\n",
    "    \"chunk_file\": file,\n",
    "    **raw[\"classification\"],\n",
    "} for file, raw in zip(files, raws)]\n",
    "\n",
    "raws[0].keys()"
   ]
  },
  {
   "cell_type": "code",
   "execution_count": null,
   "metadata": {},
   "outputs": [],
   "source": [
    "print(raws[19][\"chunk\"])"
   ]
  },
  {
   "cell_type": "code",
   "execution_count": null,
   "metadata": {},
   "outputs": [],
   "source": [
    "print(raws[19])"
   ]
  },
  {
   "cell_type": "code",
   "execution_count": null,
   "metadata": {},
   "outputs": [],
   "source": [
    "print(raws[19][\"source_file\"])"
   ]
  },
  {
   "cell_type": "code",
   "execution_count": null,
   "metadata": {},
   "outputs": [],
   "source": [
    "import pandas as pd\n",
    "\n",
    "chunk_classification = pd.DataFrame(raws)\n",
    "\n",
    "chunk_classification"
   ]
  },
  {
   "cell_type": "code",
   "execution_count": null,
   "metadata": {},
   "outputs": [],
   "source": [
    "chunk_classification[\"topics\"].apply(lambda x: len(x) if x else 0).describe()"
   ]
  },
  {
   "cell_type": "code",
   "execution_count": null,
   "metadata": {},
   "outputs": [],
   "source": [
    "chunk_classification[chunk_classification[\"topics\"].apply(len) == 0]"
   ]
  },
  {
   "cell_type": "code",
   "execution_count": null,
   "metadata": {},
   "outputs": [],
   "source": [
    "print(raws[36][\"chunk\"])"
   ]
  },
  {
   "cell_type": "code",
   "execution_count": null,
   "metadata": {},
   "outputs": [],
   "source": [
    "chunk_classification[chunk_classification[\"topics\"].apply(len) == 1]"
   ]
  },
  {
   "cell_type": "code",
   "execution_count": null,
   "metadata": {},
   "outputs": [],
   "source": [
    "print(raws[42][\"chunk\"])"
   ]
  },
  {
   "cell_type": "code",
   "execution_count": null,
   "metadata": {},
   "outputs": [],
   "source": [
    "chunk_classification[chunk_classification[\"topics\"].apply(len) == 2]"
   ]
  },
  {
   "cell_type": "code",
   "execution_count": null,
   "metadata": {},
   "outputs": [],
   "source": [
    "chunk_classification[chunk_classification[\"topics\"].apply(len) == 3]"
   ]
  },
  {
   "cell_type": "code",
   "execution_count": null,
   "metadata": {},
   "outputs": [],
   "source": [
    "chunk_classification[\"content_type\"].value_counts(normalize=False)"
   ]
  },
  {
   "cell_type": "code",
   "execution_count": null,
   "metadata": {},
   "outputs": [],
   "source": [
    "chunk_classification[\"content_type\"].value_counts(normalize=True)"
   ]
  },
  {
   "cell_type": "code",
   "execution_count": null,
   "metadata": {},
   "outputs": [],
   "source": [
    "chunk_classification[\"is_sufficient\"].mean()"
   ]
  },
  {
   "cell_type": "markdown",
   "metadata": {},
   "source": [
    "Update the paths in the code cell above before running the notebook."
   ]
  }
 ],
 "metadata": {
  "kernelspec": {
   "display_name": ".venv",
   "language": "python",
   "name": "python3"
  },
  "language_info": {
   "codemirror_mode": {
    "name": "ipython",
    "version": 3
   },
   "file_extension": ".py",
   "mimetype": "text/x-python",
   "name": "python",
   "nbconvert_exporter": "python",
   "pygments_lexer": "ipython3",
   "version": "3.10.13"
  }
 },
 "nbformat": 4,
 "nbformat_minor": 2
}
